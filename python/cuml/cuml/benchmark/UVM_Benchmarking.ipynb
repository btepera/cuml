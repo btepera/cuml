{
 "cells": [
  {
   "cell_type": "code",
   "execution_count": 1,
   "id": "b0b30818-b877-40fb-a9cd-1a5e6f9f19fc",
   "metadata": {},
   "outputs": [
    {
     "name": "stdout",
     "output_type": "stream",
     "text": [
      "env: CUDA_VISIBLE_DEVICES=3\n"
     ]
    }
   ],
   "source": [
    "%env CUDA_VISIBLE_DEVICES=3"
   ]
  },
  {
   "cell_type": "code",
   "execution_count": 2,
   "id": "1760912b-8476-4c4c-847e-ada4fe949c5c",
   "metadata": {},
   "outputs": [
    {
     "name": "stdout",
     "output_type": "stream",
     "text": [
      "MANAGED MEMORY ON\n"
     ]
    }
   ],
   "source": [
    "import rmm\n",
    "rmm.mr.set_current_device_resource(rmm.mr.ManagedMemoryResource())\n",
    "print(\"MANAGED MEMORY ON\")\n"
   ]
  },
  {
   "cell_type": "code",
   "execution_count": 3,
   "id": "7d4f2969-f442-47bb-9dba-0c3f5ca41c81",
   "metadata": {},
   "outputs": [
    {
     "name": "stderr",
     "output_type": "stream",
     "text": [
      "/home/coder/.conda/envs/rapids/lib/python3.12/site-packages/tqdm/auto.py:21: TqdmWarning: IProgress not found. Please update jupyter and ipywidgets. See https://ipywidgets.readthedocs.io/en/stable/user_install.html\n",
      "  from .autonotebook import tqdm as notebook_tqdm\n"
     ]
    }
   ],
   "source": [
    "import cudf\n",
    "import cupy\n",
    "import matplotlib.pyplot as plt\n",
    "from cuml.cluster import KMeans as cuKMeans\n",
    "from cuml.datasets import make_blobs\n",
    "from sklearn.cluster import KMeans as skKMeans\n",
    "from sklearn.metrics import adjusted_rand_score\n",
    "import cuml\n",
    "import numpy as np\n",
    "import os\n",
    "import time\n",
    "import json"
   ]
  },
  {
   "cell_type": "code",
   "execution_count": 4,
   "id": "6e5ecc58-9113-4efa-9c4f-84736a382577",
   "metadata": {},
   "outputs": [],
   "source": [
    "# X_arr, y_arr = cuml.datasets.make_blobs(\n",
    "#         n_samples=1000,\n",
    "#         n_features=16,\n",
    "#         centers=None,\n",
    "#         random_state=42,\n",
    "#         dtype=np.float32,\n",
    "#     )"
   ]
  },
  {
   "cell_type": "code",
   "execution_count": 5,
   "id": "f803d13e-467c-4541-8301-6e457aad12e1",
   "metadata": {},
   "outputs": [],
   "source": [
    "# data = (X_arr, y_arr, None, None)"
   ]
  },
  {
   "cell_type": "code",
   "execution_count": 6,
   "id": "bf3121c3-9d92-4b99-a71c-32a16b2f989a",
   "metadata": {},
   "outputs": [],
   "source": [
    "n_samples = 50000000\n",
    "n_features = 256\n",
    "\n",
    "n_clusters = 8\n",
    "random_state = 0\n"
   ]
  },
  {
   "cell_type": "code",
   "execution_count": 7,
   "id": "dc3cb89f-d4e5-445a-ac73-740c8f178259",
   "metadata": {},
   "outputs": [],
   "source": [
    "device_data, device_labels = make_blobs(\n",
    "    n_samples=n_samples,\n",
    "    n_features=n_features,\n",
    "    centers=n_clusters,\n",
    "    random_state=random_state,\n",
    "    cluster_std=0.1\n",
    ")\n"
   ]
  },
  {
   "cell_type": "code",
   "execution_count": 8,
   "id": "85b99eb7-9483-4a1c-8781-d8df3963b0e8",
   "metadata": {},
   "outputs": [
    {
     "name": "stdout",
     "output_type": "stream",
     "text": [
      "16.9 s ± 359 ms per loop (mean ± std. dev. of 7 runs, 1 loop each)\n"
     ]
    }
   ],
   "source": [
    "kmeans_cuml = cuKMeans(\n",
    "    init=\"k-means||\",\n",
    "    n_clusters=n_clusters,\n",
    "    random_state=random_state\n",
    ")\n",
    "\n",
    "%timeit kmeans_cuml.fit(device_data)\n"
   ]
  },
  {
   "cell_type": "code",
   "execution_count": null,
   "id": "8b603e0f-3503-46b3-bdd2-de7956034ecf",
   "metadata": {},
   "outputs": [],
   "source": []
  },
  {
   "cell_type": "code",
   "execution_count": null,
   "id": "3dfdd4ee-a409-46f9-9a2a-0eb134e650d8",
   "metadata": {},
   "outputs": [],
   "source": []
  },
  {
   "cell_type": "code",
   "execution_count": null,
   "id": "ff6741a6-af59-48c7-81d5-908939525355",
   "metadata": {},
   "outputs": [],
   "source": []
  },
  {
   "cell_type": "code",
   "execution_count": null,
   "id": "1117e54f-0c9f-47ff-af70-76c060ecaeb8",
   "metadata": {},
   "outputs": [],
   "source": []
  },
  {
   "cell_type": "code",
   "execution_count": null,
   "id": "d7076a82-4c8a-446b-a794-b75efa1bd3ba",
   "metadata": {},
   "outputs": [],
   "source": []
  },
  {
   "cell_type": "code",
   "execution_count": null,
   "id": "02e414ad-2b39-4b05-b1a9-a38337189839",
   "metadata": {},
   "outputs": [],
   "source": []
  },
  {
   "cell_type": "code",
   "execution_count": 4,
   "id": "12d137be-de4d-4553-9208-2fbc9ed1022e",
   "metadata": {},
   "outputs": [
    {
     "name": "stderr",
     "output_type": "stream",
     "text": [
      "/home/coder/.conda/envs/rapids/lib/python3.12/site-packages/cuml/internals/api_decorators.py:188: UserWarning: The number of bins, `n_bins` is greater than the number of samples used for training. Changing `n_bins` to number of training samples.\n",
      "  ret = func(*args, **kwargs)\n",
      "/home/coder/.conda/envs/rapids/lib/python3.12/site-packages/cuml/internals/api_decorators.py:188: UserWarning: To use pickling first train using float32 data to fit the estimator\n",
      "  ret = func(*args, **kwargs)\n"
     ]
    },
    {
     "ename": "CUDADriverError",
     "evalue": "CUDA_ERROR_ILLEGAL_ADDRESS: an illegal memory access was encountered",
     "output_type": "error",
     "traceback": [
      "\u001b[0;31m---------------------------------------------------------------------------\u001b[0m",
      "\u001b[0;31mCUDADriverError\u001b[0m                           Traceback (most recent call last)",
      "Cell \u001b[0;32mIn[4], line 67\u001b[0m\n\u001b[1;32m     64\u001b[0m \u001b[38;5;28;01mfor\u001b[39;00m K \u001b[38;5;129;01min\u001b[39;00m NFEATURES:\n\u001b[1;32m     65\u001b[0m     \u001b[38;5;28;01mfor\u001b[39;00m library \u001b[38;5;129;01min\u001b[39;00m BACKENDS:\n\u001b[0;32m---> 67\u001b[0m         device_data, device_labels \u001b[38;5;241m=\u001b[39m \u001b[43mmake_blobs\u001b[49m\u001b[43m(\u001b[49m\n\u001b[1;32m     68\u001b[0m \u001b[43m            \u001b[49m\u001b[43mn_samples\u001b[49m\u001b[38;5;241;43m=\u001b[39;49m\u001b[43mN\u001b[49m\u001b[43m,\u001b[49m\n\u001b[1;32m     69\u001b[0m \u001b[43m            \u001b[49m\u001b[43mn_features\u001b[49m\u001b[38;5;241;43m=\u001b[39;49m\u001b[43mK\u001b[49m\u001b[43m,\u001b[49m\n\u001b[1;32m     70\u001b[0m \u001b[43m            \u001b[49m\u001b[43mcenters\u001b[49m\u001b[38;5;241;43m=\u001b[39;49m\u001b[38;5;241;43m8\u001b[39;49m\u001b[43m,\u001b[49m\n\u001b[1;32m     71\u001b[0m \u001b[43m            \u001b[49m\u001b[43mrandom_state\u001b[49m\u001b[38;5;241;43m=\u001b[39;49m\u001b[38;5;241;43m0\u001b[39;49m\u001b[43m,\u001b[49m\n\u001b[1;32m     72\u001b[0m \u001b[43m            \u001b[49m\u001b[43mcluster_std\u001b[49m\u001b[38;5;241;43m=\u001b[39;49m\u001b[38;5;241;43m0.1\u001b[39;49m\n\u001b[1;32m     73\u001b[0m \u001b[43m        \u001b[49m\u001b[43m)\u001b[49m\n\u001b[1;32m     74\u001b[0m         \u001b[38;5;28;01mdel\u001b[39;00m device_labels\n\u001b[1;32m     77\u001b[0m         benchmark_payload \u001b[38;5;241m=\u001b[39m {}\n",
      "File \u001b[0;32m~/.conda/envs/rapids/lib/python3.12/site-packages/nvtx/nvtx.py:116\u001b[0m, in \u001b[0;36mannotate.__call__.<locals>.inner\u001b[0;34m(*args, **kwargs)\u001b[0m\n\u001b[1;32m    113\u001b[0m \u001b[38;5;129m@wraps\u001b[39m(func)\n\u001b[1;32m    114\u001b[0m \u001b[38;5;28;01mdef\u001b[39;00m \u001b[38;5;21minner\u001b[39m(\u001b[38;5;241m*\u001b[39margs, \u001b[38;5;241m*\u001b[39m\u001b[38;5;241m*\u001b[39mkwargs):\n\u001b[1;32m    115\u001b[0m     libnvtx_push_range(\u001b[38;5;28mself\u001b[39m\u001b[38;5;241m.\u001b[39mattributes, \u001b[38;5;28mself\u001b[39m\u001b[38;5;241m.\u001b[39mdomain\u001b[38;5;241m.\u001b[39mhandle)\n\u001b[0;32m--> 116\u001b[0m     result \u001b[38;5;241m=\u001b[39m \u001b[43mfunc\u001b[49m\u001b[43m(\u001b[49m\u001b[38;5;241;43m*\u001b[39;49m\u001b[43margs\u001b[49m\u001b[43m,\u001b[49m\u001b[43m \u001b[49m\u001b[38;5;241;43m*\u001b[39;49m\u001b[38;5;241;43m*\u001b[39;49m\u001b[43mkwargs\u001b[49m\u001b[43m)\u001b[49m\n\u001b[1;32m    117\u001b[0m     libnvtx_pop_range(\u001b[38;5;28mself\u001b[39m\u001b[38;5;241m.\u001b[39mdomain\u001b[38;5;241m.\u001b[39mhandle)\n\u001b[1;32m    118\u001b[0m     \u001b[38;5;28;01mreturn\u001b[39;00m result\n",
      "File \u001b[0;32m~/.conda/envs/rapids/lib/python3.12/site-packages/cuml/internals/api_decorators.py:188\u001b[0m, in \u001b[0;36m_make_decorator_function.<locals>.decorator_function.<locals>.decorator_closure.<locals>.wrapper\u001b[0;34m(*args, **kwargs)\u001b[0m\n\u001b[1;32m    185\u001b[0m     set_api_output_dtype(output_dtype)\n\u001b[1;32m    187\u001b[0m \u001b[38;5;28;01mif\u001b[39;00m process_return:\n\u001b[0;32m--> 188\u001b[0m     ret \u001b[38;5;241m=\u001b[39m \u001b[43mfunc\u001b[49m\u001b[43m(\u001b[49m\u001b[38;5;241;43m*\u001b[39;49m\u001b[43margs\u001b[49m\u001b[43m,\u001b[49m\u001b[43m \u001b[49m\u001b[38;5;241;43m*\u001b[39;49m\u001b[38;5;241;43m*\u001b[39;49m\u001b[43mkwargs\u001b[49m\u001b[43m)\u001b[49m\n\u001b[1;32m    189\u001b[0m \u001b[38;5;28;01melse\u001b[39;00m:\n\u001b[1;32m    190\u001b[0m     \u001b[38;5;28;01mreturn\u001b[39;00m func(\u001b[38;5;241m*\u001b[39margs, \u001b[38;5;241m*\u001b[39m\u001b[38;5;241m*\u001b[39mkwargs)\n",
      "File \u001b[0;32m~/.conda/envs/rapids/lib/python3.12/site-packages/cuml/datasets/blobs.py:216\u001b[0m, in \u001b[0;36mmake_blobs\u001b[0;34m(n_samples, n_features, centers, cluster_std, center_box, shuffle, random_state, return_centers, order, dtype)\u001b[0m\n\u001b[1;32m    212\u001b[0m shuffled_sample_indices \u001b[38;5;241m=\u001b[39m generator\u001b[38;5;241m.\u001b[39mchoice(\n\u001b[1;32m    213\u001b[0m     n_centers, n_samples, replace\u001b[38;5;241m=\u001b[39m\u001b[38;5;28;01mTrue\u001b[39;00m, p\u001b[38;5;241m=\u001b[39mproba_samples_per_center\n\u001b[1;32m    214\u001b[0m )\n\u001b[1;32m    215\u001b[0m \u001b[38;5;28;01mfor\u001b[39;00m i, (n, std) \u001b[38;5;129;01min\u001b[39;00m \u001b[38;5;28menumerate\u001b[39m(\u001b[38;5;28mzip\u001b[39m(n_samples_per_center, cluster_std)):\n\u001b[0;32m--> 216\u001b[0m     center_indices \u001b[38;5;241m=\u001b[39m \u001b[43mcp\u001b[49m\u001b[38;5;241;43m.\u001b[39;49m\u001b[43mwhere\u001b[49m\u001b[43m(\u001b[49m\u001b[43mshuffled_sample_indices\u001b[49m\u001b[43m \u001b[49m\u001b[38;5;241;43m==\u001b[39;49m\u001b[43m \u001b[49m\u001b[43mi\u001b[49m\u001b[43m)\u001b[49m\n\u001b[1;32m    218\u001b[0m     y[center_indices[\u001b[38;5;241m0\u001b[39m]] \u001b[38;5;241m=\u001b[39m i\n\u001b[1;32m    220\u001b[0m     X_k \u001b[38;5;241m=\u001b[39m generator\u001b[38;5;241m.\u001b[39mnormal(\n\u001b[1;32m    221\u001b[0m         scale\u001b[38;5;241m=\u001b[39mstd,\n\u001b[1;32m    222\u001b[0m         size\u001b[38;5;241m=\u001b[39m(\u001b[38;5;28mlen\u001b[39m(center_indices[\u001b[38;5;241m0\u001b[39m]), n_features),\n\u001b[1;32m    223\u001b[0m         dtype\u001b[38;5;241m=\u001b[39mdtype,\n\u001b[1;32m    224\u001b[0m     )\n",
      "File \u001b[0;32m~/.conda/envs/rapids/lib/python3.12/site-packages/cupy/_sorting/search.py:207\u001b[0m, in \u001b[0;36mwhere\u001b[0;34m(condition, x, y)\u001b[0m\n\u001b[1;32m    205\u001b[0m     \u001b[38;5;28;01mraise\u001b[39;00m \u001b[38;5;167;01mValueError\u001b[39;00m(\u001b[38;5;124m'\u001b[39m\u001b[38;5;124mMust provide both \u001b[39m\u001b[38;5;130;01m\\'\u001b[39;00m\u001b[38;5;124mx\u001b[39m\u001b[38;5;130;01m\\'\u001b[39;00m\u001b[38;5;124m and \u001b[39m\u001b[38;5;130;01m\\'\u001b[39;00m\u001b[38;5;124my\u001b[39m\u001b[38;5;130;01m\\'\u001b[39;00m\u001b[38;5;124m or neither.\u001b[39m\u001b[38;5;124m'\u001b[39m)\n\u001b[1;32m    206\u001b[0m \u001b[38;5;28;01mif\u001b[39;00m missing \u001b[38;5;241m==\u001b[39m \u001b[38;5;241m2\u001b[39m:\n\u001b[0;32m--> 207\u001b[0m     \u001b[38;5;28;01mreturn\u001b[39;00m \u001b[43mnonzero\u001b[49m\u001b[43m(\u001b[49m\u001b[43mcondition\u001b[49m\u001b[43m)\u001b[49m  \u001b[38;5;66;03m# may synchronize\u001b[39;00m\n\u001b[1;32m    209\u001b[0m \u001b[38;5;28;01mif\u001b[39;00m fusion\u001b[38;5;241m.\u001b[39m_is_fusing():\n\u001b[1;32m    210\u001b[0m     \u001b[38;5;28;01mreturn\u001b[39;00m fusion\u001b[38;5;241m.\u001b[39m_call_ufunc(_where_ufunc, condition, x, y)\n",
      "File \u001b[0;32m~/.conda/envs/rapids/lib/python3.12/site-packages/cupy/_sorting/search.py:140\u001b[0m, in \u001b[0;36mnonzero\u001b[0;34m(a)\u001b[0m\n\u001b[1;32m    121\u001b[0m \u001b[38;5;250m\u001b[39m\u001b[38;5;124;03m\"\"\"Return the indices of the elements that are non-zero.\u001b[39;00m\n\u001b[1;32m    122\u001b[0m \n\u001b[1;32m    123\u001b[0m \u001b[38;5;124;03mReturns a tuple of arrays, one for each dimension of a,\u001b[39;00m\n\u001b[0;32m   (...)\u001b[0m\n\u001b[1;32m    137\u001b[0m \n\u001b[1;32m    138\u001b[0m \u001b[38;5;124;03m\"\"\"\u001b[39;00m\n\u001b[1;32m    139\u001b[0m _util\u001b[38;5;241m.\u001b[39mcheck_array(a, arg_name\u001b[38;5;241m=\u001b[39m\u001b[38;5;124m'\u001b[39m\u001b[38;5;124ma\u001b[39m\u001b[38;5;124m'\u001b[39m)\n\u001b[0;32m--> 140\u001b[0m \u001b[38;5;28;01mreturn\u001b[39;00m \u001b[43ma\u001b[49m\u001b[38;5;241;43m.\u001b[39;49m\u001b[43mnonzero\u001b[49m\u001b[43m(\u001b[49m\u001b[43m)\u001b[49m\n",
      "File \u001b[0;32mcupy/_core/core.pyx:950\u001b[0m, in \u001b[0;36mcupy._core.core._ndarray_base.nonzero\u001b[0;34m()\u001b[0m\n",
      "File \u001b[0;32mcupy/_core/core.pyx:967\u001b[0m, in \u001b[0;36mcupy._core.core._ndarray_base.nonzero\u001b[0;34m()\u001b[0m\n",
      "File \u001b[0;32mcupy/_core/_routines_indexing.pyx:56\u001b[0m, in \u001b[0;36mcupy._core._routines_indexing._ndarray_nonzero\u001b[0;34m()\u001b[0m\n",
      "File \u001b[0;32mcupy/_core/_routines_indexing.pyx:98\u001b[0m, in \u001b[0;36mcupy._core._routines_indexing._ndarray_argwhere\u001b[0;34m()\u001b[0m\n",
      "File \u001b[0;32mcupy/_core/_routines_math.pyx:487\u001b[0m, in \u001b[0;36mcupy._core._routines_math.scan\u001b[0;34m()\u001b[0m\n",
      "File \u001b[0;32mcupy/_core/_routines_math.pyx:490\u001b[0m, in \u001b[0;36mcupy._core._routines_math.scan\u001b[0;34m()\u001b[0m\n",
      "File \u001b[0;32mcupy/_core/_kernel.pyx:921\u001b[0m, in \u001b[0;36mcupy._core._kernel.ElementwiseKernel.__call__\u001b[0;34m()\u001b[0m\n",
      "File \u001b[0;32mcupy/cuda/function.pyx:237\u001b[0m, in \u001b[0;36mcupy.cuda.function.Function.linear_launch\u001b[0;34m()\u001b[0m\n",
      "File \u001b[0;32mcupy/cuda/function.pyx:205\u001b[0m, in \u001b[0;36mcupy.cuda.function._launch\u001b[0;34m()\u001b[0m\n",
      "File \u001b[0;32mcupy_backends/cuda/api/driver.pyx:273\u001b[0m, in \u001b[0;36mcupy_backends.cuda.api.driver.launchKernel\u001b[0;34m()\u001b[0m\n",
      "File \u001b[0;32mcupy_backends/cuda/api/driver.pyx:63\u001b[0m, in \u001b[0;36mcupy_backends.cuda.api.driver.check_status\u001b[0;34m()\u001b[0m\n",
      "\u001b[0;31mCUDADriverError\u001b[0m: CUDA_ERROR_ILLEGAL_ADDRESS: an illegal memory access was encountered"
     ]
    }
   ],
   "source": [
    "\n",
    "\n",
    "\n",
    "# cuml.common.logger.set_level(1)\n",
    "\n",
    "class Timer:\n",
    "    def __enter__(self):\n",
    "        self.tick = time.time()\n",
    "        return self\n",
    "\n",
    "    def __exit__(self, *args, **kwargs):\n",
    "        self.tock = time.time()\n",
    "        self.elapsed = self.tock - self.tick\n",
    "\n",
    "\n",
    "# Warmup\n",
    "X = np.random.normal(0, 10, (100, 20))\n",
    "y = np.random.randint(0, 2, 100)\n",
    "clf = cuml.ensemble.RandomForestRegressor().fit(X, y)\n",
    "clf = cuml.neighbors.KNeighborsRegressor().fit(X, y)\n",
    "\n",
    "\n",
    "# n_samples = 50000000\n",
    "# n_features = 256\n",
    "# n_clusters = 8\n",
    "# random_state = 0\n",
    "\n",
    "\n",
    "\n",
    "# PARAMS\n",
    "SKIP_SKLEARN = True\n",
    "\n",
    "BACKENDS = [\n",
    "    \"cuml\",\n",
    "    \"sklearn\",\n",
    "]\n",
    "\n",
    "if SKIP_SKLEARN:\n",
    "    BACKENDS.remove(\"sklearn\")\n",
    "\n",
    "NROWS = [\n",
    "    # 10000000,\n",
    "    # 20000000,\n",
    "    # 30000000,\n",
    "    # 40000000,\n",
    "    # 50000000,\n",
    "    # 60000000,\n",
    "    70000000,\n",
    "    80000000,\n",
    "    90000000,\n",
    "    100000000\n",
    "]\n",
    "\n",
    "NFEATURES = [\n",
    "    256,\n",
    "]\n",
    "\n",
    "del clf\n",
    "\n",
    "\n",
    "outpath = f\"kmeans-benchmark-results-uvm-70.jsonl\"\n",
    "if os.path.exists(outpath):\n",
    "    os.remove(outpath)\n",
    "\n",
    "\n",
    "for N in NROWS:\n",
    "    for K in NFEATURES:\n",
    "        for library in BACKENDS:\n",
    "\n",
    "            device_data, device_labels = make_blobs(\n",
    "                n_samples=N,\n",
    "                n_features=K,\n",
    "                centers=8,\n",
    "                random_state=0,\n",
    "                cluster_std=0.1\n",
    "            )\n",
    "            del device_labels\n",
    "\n",
    "\n",
    "            benchmark_payload = {}\n",
    "            with Timer() as fit_time:\n",
    "                if library == \"cuml\":\n",
    "                    kmeans_cuml = cuKMeans(\n",
    "                        init=\"k-means||\",\n",
    "                        n_clusters=8,\n",
    "                        random_state=0\n",
    "                    )\n",
    "\n",
    "                    kmeans_cuml.fit(device_data)\n",
    "\n",
    "            benchmark_payload[\"backend\"] = library\n",
    "            benchmark_payload[\"nrows\"] = N\n",
    "            benchmark_payload[\"ncols\"] = K\n",
    "            benchmark_payload[\"fit_time\"] = fit_time.elapsed\n",
    "            benchmark_payload[\"managed_memory\"] = 1\n",
    "            print(benchmark_payload)\n",
    "\n",
    "            with open(outpath, \"a\") as fh:\n",
    "                fh.write(json.dumps(benchmark_payload))\n",
    "                fh.write(\"\\n\")\n",
    "            del kmeans_cuml\n",
    "            del device_data\n",
    "\n",
    "            time.sleep(0.5)"
   ]
  },
  {
   "cell_type": "code",
   "execution_count": 4,
   "id": "946a0c67-869c-45e9-9f7c-9417002a1130",
   "metadata": {},
   "outputs": [],
   "source": [
    "class Timer:\n",
    "    def __enter__(self):\n",
    "        self.tick = time.time()\n",
    "        return self\n",
    "\n",
    "    def __exit__(self, *args, **kwargs):\n",
    "        self.tock = time.time()\n",
    "        self.elapsed = self.tock - self.tick\n",
    "\n",
    "\n",
    "device_data, device_labels = make_blobs(\n",
    "    n_samples=40000000,\n",
    "    n_features=256,\n",
    "    centers=8,\n",
    "    random_state=0,\n",
    "    cluster_std=0.1\n",
    ")\n",
    "\n",
    "\n",
    "benchmark_payload = {}\n",
    "with Timer() as fit_time:\n",
    "    kmeans_cuml = cuKMeans(\n",
    "        init=\"k-means||\",\n",
    "        n_clusters=8,\n",
    "        random_state=0\n",
    "    )\n",
    "\n",
    "    kmeans_cuml.fit(device_data)\n",
    "\n"
   ]
  },
  {
   "cell_type": "code",
   "execution_count": 7,
   "id": "9788e26d-f336-40dd-98b5-5fd9a45930b1",
   "metadata": {},
   "outputs": [],
   "source": []
  },
  {
   "cell_type": "code",
   "execution_count": 5,
   "id": "76c93bf7-16a1-46fe-b06c-662da6592692",
   "metadata": {},
   "outputs": [],
   "source": [
    "import pandas as pd\n"
   ]
  },
  {
   "cell_type": "code",
   "execution_count": 6,
   "id": "5fe23966-cc5e-4560-9b01-8895c985ec5c",
   "metadata": {},
   "outputs": [],
   "source": [
    "uvm_df = pd.read_json(path_or_buf=\"kmeans-benchmark-results-uvm.jsonl\", lines=True)\n",
    "no_uvm_df = pd.read_json(path_or_buf=\"kmeans-benchmark-results-no-uvm.jsonl\", lines=True)"
   ]
  },
  {
   "cell_type": "code",
   "execution_count": 13,
   "id": "0153b518-8ad0-4027-8c9b-be7fd40bd180",
   "metadata": {},
   "outputs": [
    {
     "data": {
      "text/html": [
       "<div>\n",
       "<style scoped>\n",
       "    .dataframe tbody tr th:only-of-type {\n",
       "        vertical-align: middle;\n",
       "    }\n",
       "\n",
       "    .dataframe tbody tr th {\n",
       "        vertical-align: top;\n",
       "    }\n",
       "\n",
       "    .dataframe thead th {\n",
       "        text-align: right;\n",
       "    }\n",
       "</style>\n",
       "<table border=\"1\" class=\"dataframe\">\n",
       "  <thead>\n",
       "    <tr style=\"text-align: right;\">\n",
       "      <th></th>\n",
       "      <th>backend</th>\n",
       "      <th>nrows</th>\n",
       "      <th>ncols</th>\n",
       "      <th>fit_time</th>\n",
       "      <th>managed_memory</th>\n",
       "    </tr>\n",
       "  </thead>\n",
       "  <tbody>\n",
       "    <tr>\n",
       "      <th>0</th>\n",
       "      <td>cuml</td>\n",
       "      <td>10000000</td>\n",
       "      <td>256</td>\n",
       "      <td>2.910753</td>\n",
       "      <td>1</td>\n",
       "    </tr>\n",
       "    <tr>\n",
       "      <th>1</th>\n",
       "      <td>cuml</td>\n",
       "      <td>20000000</td>\n",
       "      <td>256</td>\n",
       "      <td>5.495676</td>\n",
       "      <td>1</td>\n",
       "    </tr>\n",
       "    <tr>\n",
       "      <th>2</th>\n",
       "      <td>cuml</td>\n",
       "      <td>30000000</td>\n",
       "      <td>256</td>\n",
       "      <td>8.256163</td>\n",
       "      <td>1</td>\n",
       "    </tr>\n",
       "    <tr>\n",
       "      <th>3</th>\n",
       "      <td>cuml</td>\n",
       "      <td>40000000</td>\n",
       "      <td>256</td>\n",
       "      <td>15.919971</td>\n",
       "      <td>1</td>\n",
       "    </tr>\n",
       "    <tr>\n",
       "      <th>4</th>\n",
       "      <td>cuml</td>\n",
       "      <td>50000000</td>\n",
       "      <td>256</td>\n",
       "      <td>18.055269</td>\n",
       "      <td>1</td>\n",
       "    </tr>\n",
       "    <tr>\n",
       "      <th>5</th>\n",
       "      <td>cuml</td>\n",
       "      <td>60000000</td>\n",
       "      <td>256</td>\n",
       "      <td>26.473229</td>\n",
       "      <td>1</td>\n",
       "    </tr>\n",
       "  </tbody>\n",
       "</table>\n",
       "</div>"
      ],
      "text/plain": [
       "  backend     nrows  ncols   fit_time  managed_memory\n",
       "0    cuml  10000000    256   2.910753               1\n",
       "1    cuml  20000000    256   5.495676               1\n",
       "2    cuml  30000000    256   8.256163               1\n",
       "3    cuml  40000000    256  15.919971               1\n",
       "4    cuml  50000000    256  18.055269               1\n",
       "5    cuml  60000000    256  26.473229               1"
      ]
     },
     "execution_count": 13,
     "metadata": {},
     "output_type": "execute_result"
    }
   ],
   "source": [
    "uvm_df"
   ]
  },
  {
   "cell_type": "code",
   "execution_count": 15,
   "id": "c941fbe1-6232-46d1-b413-1113a73b6b16",
   "metadata": {},
   "outputs": [],
   "source": [
    "no_uvm_df[\"managed_memory\"]=0"
   ]
  },
  {
   "cell_type": "code",
   "execution_count": 16,
   "id": "e913a857-ccf9-4339-b070-ec83ecc09232",
   "metadata": {},
   "outputs": [],
   "source": [
    "df = pd.concat([uvm_df, no_uvm_df])"
   ]
  },
  {
   "cell_type": "code",
   "execution_count": 21,
   "id": "fe36da04-f9a3-4da9-885e-48187858e041",
   "metadata": {},
   "outputs": [],
   "source": [
    "df.to_csv(\"kmeans_sum.csv\", index=False)"
   ]
  },
  {
   "cell_type": "code",
   "execution_count": 18,
   "id": "b1bd6caa-28ca-43fa-abb1-1b6567439578",
   "metadata": {},
   "outputs": [],
   "source": [
    "import matplotlib as plt"
   ]
  },
  {
   "cell_type": "code",
   "execution_count": 19,
   "id": "04ccbe04-f4e6-4de0-9a8f-5495e7768bc8",
   "metadata": {},
   "outputs": [],
   "source": [
    "pivot = df.pivot(index='nrows', columns='managed_memory', values='fit_time')\n"
   ]
  },
  {
   "cell_type": "code",
   "execution_count": null,
   "id": "c6bc3072-b376-4b00-b3b4-918e813cb709",
   "metadata": {},
   "outputs": [],
   "source": []
  },
  {
   "cell_type": "code",
   "execution_count": 20,
   "id": "676df734-3d70-47cb-825e-3639bf9561e2",
   "metadata": {},
   "outputs": [
    {
     "data": {
      "text/plain": [
       "<Axes: xlabel='nrows'>"
      ]
     },
     "execution_count": 20,
     "metadata": {},
     "output_type": "execute_result"
    },
    {
     "data": {
      "image/png": "[encoded data removed]",
      "text/plain": [
       "<Figure size 640x480 with 1 Axes>"
      ]
     },
     "metadata": {},
     "output_type": "display_data"
    }
   ],
   "source": [
    "pivot.plot()"
   ]
  },
  {
   "cell_type": "code",
   "execution_count": 22,
   "id": "be01a9fc-40e9-4dda-a69b-e48d2ced3c75",
   "metadata": {},
   "outputs": [
    {
     "data": {
      "text/html": [
       "<div>\n",
       "<style scoped>\n",
       "    .dataframe tbody tr th:only-of-type {\n",
       "        vertical-align: middle;\n",
       "    }\n",
       "\n",
       "    .dataframe tbody tr th {\n",
       "        vertical-align: top;\n",
       "    }\n",
       "\n",
       "    .dataframe thead th {\n",
       "        text-align: right;\n",
       "    }\n",
       "</style>\n",
       "<table border=\"1\" class=\"dataframe\">\n",
       "  <thead>\n",
       "    <tr style=\"text-align: right;\">\n",
       "      <th>managed_memory</th>\n",
       "      <th>0</th>\n",
       "      <th>1</th>\n",
       "    </tr>\n",
       "    <tr>\n",
       "      <th>nrows</th>\n",
       "      <th></th>\n",
       "      <th></th>\n",
       "    </tr>\n",
       "  </thead>\n",
       "  <tbody>\n",
       "    <tr>\n",
       "      <th>10000000</th>\n",
       "      <td>2.616952</td>\n",
       "      <td>2.910753</td>\n",
       "    </tr>\n",
       "    <tr>\n",
       "      <th>20000000</th>\n",
       "      <td>3.378033</td>\n",
       "      <td>5.495676</td>\n",
       "    </tr>\n",
       "    <tr>\n",
       "      <th>30000000</th>\n",
       "      <td>5.870863</td>\n",
       "      <td>8.256163</td>\n",
       "    </tr>\n",
       "    <tr>\n",
       "      <th>40000000</th>\n",
       "      <td>8.086620</td>\n",
       "      <td>15.919971</td>\n",
       "    </tr>\n",
       "    <tr>\n",
       "      <th>50000000</th>\n",
       "      <td>NaN</td>\n",
       "      <td>18.055269</td>\n",
       "    </tr>\n",
       "    <tr>\n",
       "      <th>60000000</th>\n",
       "      <td>NaN</td>\n",
       "      <td>26.473229</td>\n",
       "    </tr>\n",
       "  </tbody>\n",
       "</table>\n",
       "</div>"
      ],
      "text/plain": [
       "managed_memory         0          1\n",
       "nrows                              \n",
       "10000000        2.616952   2.910753\n",
       "20000000        3.378033   5.495676\n",
       "30000000        5.870863   8.256163\n",
       "40000000        8.086620  15.919971\n",
       "50000000             NaN  18.055269\n",
       "60000000             NaN  26.473229"
      ]
     },
     "execution_count": 22,
     "metadata": {},
     "output_type": "execute_result"
    }
   ],
   "source": [
    "pivot\n"
   ]
  },
  {
   "cell_type": "markdown",
   "id": "b09c85cc-1acc-4ab1-9355-aba0de988771",
   "metadata": {},
   "source": [
    "# RANDOM FOREST"
   ]
  },
  {
   "cell_type": "code",
   "execution_count": 1,
   "id": "d7dac40c-bd1c-413f-9b82-2aab402ae1cb",
   "metadata": {},
   "outputs": [
    {
     "name": "stdout",
     "output_type": "stream",
     "text": [
      "env: CUDA_VISIBLE_DEVICES=3\n"
     ]
    }
   ],
   "source": [
    "%env CUDA_VISIBLE_DEVICES=3"
   ]
  },
  {
   "cell_type": "code",
   "execution_count": 2,
   "id": "085f4253-2059-42c3-851b-02f58fb437d6",
   "metadata": {},
   "outputs": [
    {
     "name": "stdout",
     "output_type": "stream",
     "text": [
      "MANAGED MEMORY ON\n"
     ]
    }
   ],
   "source": [
    "import rmm\n",
    "rmm.mr.set_current_device_resource(rmm.mr.ManagedMemoryResource())\n",
    "print(\"MANAGED MEMORY ON\")\n"
   ]
  },
  {
   "cell_type": "code",
   "execution_count": 3,
   "id": "6314ca21-cba7-4ee1-a0e8-8ddab0050211",
   "metadata": {},
   "outputs": [
    {
     "name": "stderr",
     "output_type": "stream",
     "text": [
      "/home/coder/.conda/envs/rapids/lib/python3.12/site-packages/tqdm/auto.py:21: TqdmWarning: IProgress not found. Please update jupyter and ipywidgets. See https://ipywidgets.readthedocs.io/en/stable/user_install.html\n",
      "  from .autonotebook import tqdm as notebook_tqdm\n"
     ]
    }
   ],
   "source": [
    "import cudf\n",
    "import cupy\n",
    "import matplotlib.pyplot as plt\n",
    "from cuml.ensemble import RandomForestClassifier as cuRFC\n",
    "from cuml.metrics import accuracy_score\n",
    "from cuml.datasets.classification import make_classification\n",
    "from cuml.model_selection import train_test_split\n",
    "import pandas as pd\n",
    "import cuml\n",
    "import numpy as np\n",
    "import os\n",
    "import time\n",
    "import cupy as cp\n",
    "import json"
   ]
  },
  {
   "cell_type": "code",
   "execution_count": null,
   "id": "6ce8fab7-3d7e-494e-bd0f-c56bdf3b6e66",
   "metadata": {},
   "outputs": [
    {
     "name": "stderr",
     "output_type": "stream",
     "text": [
      "/home/coder/.conda/envs/rapids/lib/python3.12/site-packages/cuml/internals/api_decorators.py:188: UserWarning: The number of bins, `n_bins` is greater than the number of samples used for training. Changing `n_bins` to number of training samples.\n",
      "  ret = func(*args, **kwargs)\n",
      "/home/coder/.conda/envs/rapids/lib/python3.12/site-packages/cuml/internals/api_decorators.py:188: UserWarning: To use pickling first train using float32 data to fit the estimator\n",
      "  ret = func(*args, **kwargs)\n"
     ]
    },
    {
     "name": "stdout",
     "output_type": "stream",
     "text": [
      "{'backend': 'cuml', 'nrows': 5000000, 'ncols': 256, 'fit_time': 33.007620334625244, 'managed_memory': 1}\n"
     ]
    }
   ],
   "source": [
    "\n",
    "# cuml.common.logger.set_level(1)\n",
    "\n",
    "class Timer:\n",
    "    def __enter__(self):\n",
    "        self.tick = time.time()\n",
    "        return self\n",
    "\n",
    "    def __exit__(self, *args, **kwargs):\n",
    "        self.tock = time.time()\n",
    "        self.elapsed = self.tock - self.tick\n",
    "\n",
    "\n",
    "# Warmup\n",
    "X = np.random.normal(0, 10, (100, 20))\n",
    "y = np.random.randint(0, 2, 100)\n",
    "clf = cuml.ensemble.RandomForestRegressor().fit(X, y)\n",
    "clf = cuml.neighbors.KNeighborsRegressor().fit(X, y)\n",
    "\n",
    "\n",
    "# n_samples = 50000000\n",
    "# n_features = 256\n",
    "# n_clusters = 8\n",
    "# random_state = 0\n",
    "\n",
    "\n",
    "\n",
    "# PARAMS\n",
    "SKIP_SKLEARN = True\n",
    "\n",
    "BACKENDS = [\n",
    "    \"cuml\",\n",
    "    \"sklearn\",\n",
    "]\n",
    "\n",
    "if SKIP_SKLEARN:\n",
    "    BACKENDS.remove(\"sklearn\")\n",
    "\n",
    "NROWS = [\n",
    "    5000000,\n",
    "    10000000,\n",
    "    15000000,\n",
    "    20000000,\n",
    "    25000000,\n",
    "    30000000,\n",
    "    40000000,\n",
    "    50000000,\n",
    "    60000000,\n",
    "    70000000,\n",
    "    80000000,\n",
    "    90000000,\n",
    "    100000000\n",
    "]\n",
    "\n",
    "NFEATURES = [\n",
    "    256,\n",
    "]\n",
    "\n",
    "del clf\n",
    "\n",
    "\n",
    "outpath = f\"rf-benchmark-results-uvm.jsonl\"\n",
    "if os.path.exists(outpath):\n",
    "    os.remove(outpath)\n",
    "\n",
    "\n",
    "for N in NROWS:\n",
    "    for K in NFEATURES:\n",
    "        for library in BACKENDS:\n",
    "            X, y = make_classification( n_features = K,\n",
    "                             n_samples = N,\n",
    "                             random_state = 0 )\n",
    "            X_train, X_test, y_train, y_test = train_test_split( X, y, random_state = 0 )\n",
    "\n",
    "\n",
    "            benchmark_payload = {}\n",
    "            with Timer() as fit_time:\n",
    "                if library == \"cuml\":\n",
    "                    cuml_model = cuRFC(max_features=1.0,\n",
    "                       n_bins=8,\n",
    "                       n_estimators=40)\n",
    "                    cuml_model.fit( X_train, y_train )            \n",
    "\n",
    "\n",
    "            benchmark_payload[\"backend\"] = library\n",
    "            benchmark_payload[\"nrows\"] = N\n",
    "            benchmark_payload[\"ncols\"] = K\n",
    "            benchmark_payload[\"fit_time\"] = fit_time.elapsed\n",
    "            benchmark_payload[\"managed_memory\"] = 1\n",
    "            print(benchmark_payload)\n",
    "\n",
    "            with open(outpath, \"a\") as fh:\n",
    "                fh.write(json.dumps(benchmark_payload))\n",
    "                fh.write(\"\\n\")\n",
    "            del cuml_model\n",
    "            del X, y, X_train, X_test, y_train, y_test\n",
    "\n",
    "            time.sleep(0.5)"
   ]
  },
  {
   "cell_type": "code",
   "execution_count": 1,
   "id": "ec15a9be-3f64-479d-b688-ad791a0225e8",
   "metadata": {},
   "outputs": [
    {
     "data": {
      "text/plain": [
       "<Axes: xlabel='nrows'>"
      ]
     },
     "execution_count": 1,
     "metadata": {},
     "output_type": "execute_result"
    },
    {
     "data": {
      "image/png": "[encoded data removed]",
      "text/plain": [
       "<Figure size 640x480 with 1 Axes>"
      ]
     },
     "metadata": {},
     "output_type": "display_data"
    }
   ],
   "source": [
    "import pandas as pd\n",
    "uvm_df = pd.read_json(path_or_buf=\"rf-benchmark-results-uvm.jsonl\", lines=True)\n",
    "no_uvm_df = pd.read_json(path_or_buf=\"rf-benchmark-results-no-uvm.jsonl\", lines=True)\n",
    "df = pd.concat([uvm_df, no_uvm_df])\n",
    "df.to_csv(\"rf_sum.csv\", index=False)\n",
    "pivot = df.pivot(index='nrows', columns='managed_memory', values='fit_time')\n",
    "pivot.plot()"
   ]
  },
  {
   "cell_type": "markdown",
   "id": "be114708-64b9-4abd-918e-f293f4bc0237",
   "metadata": {},
   "source": [
    "# NEAREST NEIGHBORS"
   ]
  },
  {
   "cell_type": "code",
   "execution_count": 1,
   "id": "8846fb8c-72b4-4e4a-9b0d-4df772a361fc",
   "metadata": {},
   "outputs": [
    {
     "name": "stdout",
     "output_type": "stream",
     "text": [
      "env: CUDA_VISIBLE_DEVICES=3\n"
     ]
    }
   ],
   "source": [
    "%env CUDA_VISIBLE_DEVICES=3"
   ]
  },
  {
   "cell_type": "code",
   "execution_count": 2,
   "id": "f8996654-59db-4979-ae17-7d0d3022e368",
   "metadata": {},
   "outputs": [
    {
     "name": "stdout",
     "output_type": "stream",
     "text": [
      "MANAGED MEMORY ON\n"
     ]
    }
   ],
   "source": [
    "import rmm\n",
    "rmm.mr.set_current_device_resource(rmm.mr.ManagedMemoryResource())\n",
    "print(\"MANAGED MEMORY ON\")\n"
   ]
  },
  {
   "cell_type": "code",
   "execution_count": 3,
   "id": "a293a2cf-fd4b-4f13-bb9d-e1e53583425d",
   "metadata": {},
   "outputs": [
    {
     "name": "stderr",
     "output_type": "stream",
     "text": [
      "/home/coder/.conda/envs/rapids/lib/python3.12/site-packages/tqdm/auto.py:21: TqdmWarning: IProgress not found. Please update jupyter and ipywidgets. See https://ipywidgets.readthedocs.io/en/stable/user_install.html\n",
      "  from .autonotebook import tqdm as notebook_tqdm\n"
     ]
    }
   ],
   "source": [
    "from cuml.neighbors import KNeighborsClassifier\n",
    "from cuml.datasets import make_blobs\n",
    "from cuml.model_selection import train_test_split\n",
    "import pandas as pd\n",
    "import cuml\n",
    "import numpy as np\n",
    "import os\n",
    "import time\n",
    "import cupy as cp\n",
    "import json"
   ]
  },
  {
   "cell_type": "code",
   "execution_count": 4,
   "id": "71624b9f-acb6-40b3-88fb-42a810559143",
   "metadata": {},
   "outputs": [
    {
     "name": "stderr",
     "output_type": "stream",
     "text": [
      "/home/coder/.conda/envs/rapids/lib/python3.12/site-packages/cuml/internals/api_decorators.py:188: UserWarning: The number of bins, `n_bins` is greater than the number of samples used for training. Changing `n_bins` to number of training samples.\n",
      "  ret = func(*args, **kwargs)\n",
      "/home/coder/.conda/envs/rapids/lib/python3.12/site-packages/cuml/internals/api_decorators.py:188: UserWarning: To use pickling first train using float32 data to fit the estimator\n",
      "  ret = func(*args, **kwargs)\n"
     ]
    },
    {
     "name": "stdout",
     "output_type": "stream",
     "text": [
      "{'backend': 'cuml', 'nrows': 5000000, 'ncols': 256, 'fit_time': 0.7354159355163574, 'managed_memory': 1}\n",
      "{'backend': 'cuml', 'nrows': 10000000, 'ncols': 256, 'fit_time': 0.030272722244262695, 'managed_memory': 1}\n",
      "{'backend': 'cuml', 'nrows': 15000000, 'ncols': 256, 'fit_time': 0.042688608169555664, 'managed_memory': 1}\n",
      "{'backend': 'cuml', 'nrows': 20000000, 'ncols': 256, 'fit_time': 0.0567774772644043, 'managed_memory': 1}\n",
      "{'backend': 'cuml', 'nrows': 25000000, 'ncols': 256, 'fit_time': 0.06717061996459961, 'managed_memory': 1}\n",
      "{'backend': 'cuml', 'nrows': 30000000, 'ncols': 256, 'fit_time': 0.08194351196289062, 'managed_memory': 1}\n",
      "{'backend': 'cuml', 'nrows': 40000000, 'ncols': 256, 'fit_time': 0.10860538482666016, 'managed_memory': 1}\n"
     ]
    },
    {
     "ename": "CUDADriverError",
     "evalue": "CUDA_ERROR_ILLEGAL_ADDRESS: an illegal memory access was encountered",
     "output_type": "error",
     "traceback": [
      "\u001b[0;31m---------------------------------------------------------------------------\u001b[0m",
      "\u001b[0;31mCUDADriverError\u001b[0m                           Traceback (most recent call last)",
      "Cell \u001b[0;32mIn[4], line 70\u001b[0m\n\u001b[1;32m     68\u001b[0m \u001b[38;5;28;01mfor\u001b[39;00m K \u001b[38;5;129;01min\u001b[39;00m NFEATURES:\n\u001b[1;32m     69\u001b[0m     \u001b[38;5;28;01mfor\u001b[39;00m library \u001b[38;5;129;01min\u001b[39;00m BACKENDS:\n\u001b[0;32m---> 70\u001b[0m         X, y \u001b[38;5;241m=\u001b[39m \u001b[43mmake_blobs\u001b[49m\u001b[43m(\u001b[49m\u001b[43mn_samples\u001b[49m\u001b[38;5;241;43m=\u001b[39;49m\u001b[43mN\u001b[49m\u001b[43m,\u001b[49m\u001b[43m \u001b[49m\u001b[43mcenters\u001b[49m\u001b[38;5;241;43m=\u001b[39;49m\u001b[38;5;241;43m5\u001b[39;49m\u001b[43m,\u001b[49m\n\u001b[1;32m     71\u001b[0m \u001b[43m              \u001b[49m\u001b[43mn_features\u001b[49m\u001b[38;5;241;43m=\u001b[39;49m\u001b[43mK\u001b[49m\u001b[43m,\u001b[49m\u001b[43m \u001b[49m\u001b[43mrandom_state\u001b[49m\u001b[38;5;241;43m=\u001b[39;49m\u001b[38;5;241;43m5\u001b[39;49m\u001b[43m)\u001b[49m\n\u001b[1;32m     72\u001b[0m         X_train, X_test, y_train, y_test \u001b[38;5;241m=\u001b[39m train_test_split( X, y, random_state \u001b[38;5;241m=\u001b[39m \u001b[38;5;241m0\u001b[39m )\n\u001b[1;32m     74\u001b[0m         benchmark_payload \u001b[38;5;241m=\u001b[39m {}\n",
      "File \u001b[0;32m~/.conda/envs/rapids/lib/python3.12/site-packages/nvtx/nvtx.py:116\u001b[0m, in \u001b[0;36mannotate.__call__.<locals>.inner\u001b[0;34m(*args, **kwargs)\u001b[0m\n\u001b[1;32m    113\u001b[0m \u001b[38;5;129m@wraps\u001b[39m(func)\n\u001b[1;32m    114\u001b[0m \u001b[38;5;28;01mdef\u001b[39;00m \u001b[38;5;21minner\u001b[39m(\u001b[38;5;241m*\u001b[39margs, \u001b[38;5;241m*\u001b[39m\u001b[38;5;241m*\u001b[39mkwargs):\n\u001b[1;32m    115\u001b[0m     libnvtx_push_range(\u001b[38;5;28mself\u001b[39m\u001b[38;5;241m.\u001b[39mattributes, \u001b[38;5;28mself\u001b[39m\u001b[38;5;241m.\u001b[39mdomain\u001b[38;5;241m.\u001b[39mhandle)\n\u001b[0;32m--> 116\u001b[0m     result \u001b[38;5;241m=\u001b[39m \u001b[43mfunc\u001b[49m\u001b[43m(\u001b[49m\u001b[38;5;241;43m*\u001b[39;49m\u001b[43margs\u001b[49m\u001b[43m,\u001b[49m\u001b[43m \u001b[49m\u001b[38;5;241;43m*\u001b[39;49m\u001b[38;5;241;43m*\u001b[39;49m\u001b[43mkwargs\u001b[49m\u001b[43m)\u001b[49m\n\u001b[1;32m    117\u001b[0m     libnvtx_pop_range(\u001b[38;5;28mself\u001b[39m\u001b[38;5;241m.\u001b[39mdomain\u001b[38;5;241m.\u001b[39mhandle)\n\u001b[1;32m    118\u001b[0m     \u001b[38;5;28;01mreturn\u001b[39;00m result\n",
      "File \u001b[0;32m~/.conda/envs/rapids/lib/python3.12/site-packages/cuml/internals/api_decorators.py:188\u001b[0m, in \u001b[0;36m_make_decorator_function.<locals>.decorator_function.<locals>.decorator_closure.<locals>.wrapper\u001b[0;34m(*args, **kwargs)\u001b[0m\n\u001b[1;32m    185\u001b[0m     set_api_output_dtype(output_dtype)\n\u001b[1;32m    187\u001b[0m \u001b[38;5;28;01mif\u001b[39;00m process_return:\n\u001b[0;32m--> 188\u001b[0m     ret \u001b[38;5;241m=\u001b[39m \u001b[43mfunc\u001b[49m\u001b[43m(\u001b[49m\u001b[38;5;241;43m*\u001b[39;49m\u001b[43margs\u001b[49m\u001b[43m,\u001b[49m\u001b[43m \u001b[49m\u001b[38;5;241;43m*\u001b[39;49m\u001b[38;5;241;43m*\u001b[39;49m\u001b[43mkwargs\u001b[49m\u001b[43m)\u001b[49m\n\u001b[1;32m    189\u001b[0m \u001b[38;5;28;01melse\u001b[39;00m:\n\u001b[1;32m    190\u001b[0m     \u001b[38;5;28;01mreturn\u001b[39;00m func(\u001b[38;5;241m*\u001b[39margs, \u001b[38;5;241m*\u001b[39m\u001b[38;5;241m*\u001b[39mkwargs)\n",
      "File \u001b[0;32m~/.conda/envs/rapids/lib/python3.12/site-packages/cuml/datasets/blobs.py:216\u001b[0m, in \u001b[0;36mmake_blobs\u001b[0;34m(n_samples, n_features, centers, cluster_std, center_box, shuffle, random_state, return_centers, order, dtype)\u001b[0m\n\u001b[1;32m    212\u001b[0m shuffled_sample_indices \u001b[38;5;241m=\u001b[39m generator\u001b[38;5;241m.\u001b[39mchoice(\n\u001b[1;32m    213\u001b[0m     n_centers, n_samples, replace\u001b[38;5;241m=\u001b[39m\u001b[38;5;28;01mTrue\u001b[39;00m, p\u001b[38;5;241m=\u001b[39mproba_samples_per_center\n\u001b[1;32m    214\u001b[0m )\n\u001b[1;32m    215\u001b[0m \u001b[38;5;28;01mfor\u001b[39;00m i, (n, std) \u001b[38;5;129;01min\u001b[39;00m \u001b[38;5;28menumerate\u001b[39m(\u001b[38;5;28mzip\u001b[39m(n_samples_per_center, cluster_std)):\n\u001b[0;32m--> 216\u001b[0m     center_indices \u001b[38;5;241m=\u001b[39m \u001b[43mcp\u001b[49m\u001b[38;5;241;43m.\u001b[39;49m\u001b[43mwhere\u001b[49m\u001b[43m(\u001b[49m\u001b[43mshuffled_sample_indices\u001b[49m\u001b[43m \u001b[49m\u001b[38;5;241;43m==\u001b[39;49m\u001b[43m \u001b[49m\u001b[43mi\u001b[49m\u001b[43m)\u001b[49m\n\u001b[1;32m    218\u001b[0m     y[center_indices[\u001b[38;5;241m0\u001b[39m]] \u001b[38;5;241m=\u001b[39m i\n\u001b[1;32m    220\u001b[0m     X_k \u001b[38;5;241m=\u001b[39m generator\u001b[38;5;241m.\u001b[39mnormal(\n\u001b[1;32m    221\u001b[0m         scale\u001b[38;5;241m=\u001b[39mstd,\n\u001b[1;32m    222\u001b[0m         size\u001b[38;5;241m=\u001b[39m(\u001b[38;5;28mlen\u001b[39m(center_indices[\u001b[38;5;241m0\u001b[39m]), n_features),\n\u001b[1;32m    223\u001b[0m         dtype\u001b[38;5;241m=\u001b[39mdtype,\n\u001b[1;32m    224\u001b[0m     )\n",
      "File \u001b[0;32m~/.conda/envs/rapids/lib/python3.12/site-packages/cupy/_sorting/search.py:207\u001b[0m, in \u001b[0;36mwhere\u001b[0;34m(condition, x, y)\u001b[0m\n\u001b[1;32m    205\u001b[0m     \u001b[38;5;28;01mraise\u001b[39;00m \u001b[38;5;167;01mValueError\u001b[39;00m(\u001b[38;5;124m'\u001b[39m\u001b[38;5;124mMust provide both \u001b[39m\u001b[38;5;130;01m\\'\u001b[39;00m\u001b[38;5;124mx\u001b[39m\u001b[38;5;130;01m\\'\u001b[39;00m\u001b[38;5;124m and \u001b[39m\u001b[38;5;130;01m\\'\u001b[39;00m\u001b[38;5;124my\u001b[39m\u001b[38;5;130;01m\\'\u001b[39;00m\u001b[38;5;124m or neither.\u001b[39m\u001b[38;5;124m'\u001b[39m)\n\u001b[1;32m    206\u001b[0m \u001b[38;5;28;01mif\u001b[39;00m missing \u001b[38;5;241m==\u001b[39m \u001b[38;5;241m2\u001b[39m:\n\u001b[0;32m--> 207\u001b[0m     \u001b[38;5;28;01mreturn\u001b[39;00m \u001b[43mnonzero\u001b[49m\u001b[43m(\u001b[49m\u001b[43mcondition\u001b[49m\u001b[43m)\u001b[49m  \u001b[38;5;66;03m# may synchronize\u001b[39;00m\n\u001b[1;32m    209\u001b[0m \u001b[38;5;28;01mif\u001b[39;00m fusion\u001b[38;5;241m.\u001b[39m_is_fusing():\n\u001b[1;32m    210\u001b[0m     \u001b[38;5;28;01mreturn\u001b[39;00m fusion\u001b[38;5;241m.\u001b[39m_call_ufunc(_where_ufunc, condition, x, y)\n",
      "File \u001b[0;32m~/.conda/envs/rapids/lib/python3.12/site-packages/cupy/_sorting/search.py:140\u001b[0m, in \u001b[0;36mnonzero\u001b[0;34m(a)\u001b[0m\n\u001b[1;32m    121\u001b[0m \u001b[38;5;250m\u001b[39m\u001b[38;5;124;03m\"\"\"Return the indices of the elements that are non-zero.\u001b[39;00m\n\u001b[1;32m    122\u001b[0m \n\u001b[1;32m    123\u001b[0m \u001b[38;5;124;03mReturns a tuple of arrays, one for each dimension of a,\u001b[39;00m\n\u001b[0;32m   (...)\u001b[0m\n\u001b[1;32m    137\u001b[0m \n\u001b[1;32m    138\u001b[0m \u001b[38;5;124;03m\"\"\"\u001b[39;00m\n\u001b[1;32m    139\u001b[0m _util\u001b[38;5;241m.\u001b[39mcheck_array(a, arg_name\u001b[38;5;241m=\u001b[39m\u001b[38;5;124m'\u001b[39m\u001b[38;5;124ma\u001b[39m\u001b[38;5;124m'\u001b[39m)\n\u001b[0;32m--> 140\u001b[0m \u001b[38;5;28;01mreturn\u001b[39;00m \u001b[43ma\u001b[49m\u001b[38;5;241;43m.\u001b[39;49m\u001b[43mnonzero\u001b[49m\u001b[43m(\u001b[49m\u001b[43m)\u001b[49m\n",
      "File \u001b[0;32mcupy/_core/core.pyx:950\u001b[0m, in \u001b[0;36mcupy._core.core._ndarray_base.nonzero\u001b[0;34m()\u001b[0m\n",
      "File \u001b[0;32mcupy/_core/core.pyx:967\u001b[0m, in \u001b[0;36mcupy._core.core._ndarray_base.nonzero\u001b[0;34m()\u001b[0m\n",
      "File \u001b[0;32mcupy/_core/_routines_indexing.pyx:56\u001b[0m, in \u001b[0;36mcupy._core._routines_indexing._ndarray_nonzero\u001b[0;34m()\u001b[0m\n",
      "File \u001b[0;32mcupy/_core/_routines_indexing.pyx:98\u001b[0m, in \u001b[0;36mcupy._core._routines_indexing._ndarray_argwhere\u001b[0;34m()\u001b[0m\n",
      "File \u001b[0;32mcupy/_core/_routines_math.pyx:487\u001b[0m, in \u001b[0;36mcupy._core._routines_math.scan\u001b[0;34m()\u001b[0m\n",
      "File \u001b[0;32mcupy/_core/_routines_math.pyx:490\u001b[0m, in \u001b[0;36mcupy._core._routines_math.scan\u001b[0;34m()\u001b[0m\n",
      "File \u001b[0;32mcupy/_core/_kernel.pyx:921\u001b[0m, in \u001b[0;36mcupy._core._kernel.ElementwiseKernel.__call__\u001b[0;34m()\u001b[0m\n",
      "File \u001b[0;32mcupy/cuda/function.pyx:237\u001b[0m, in \u001b[0;36mcupy.cuda.function.Function.linear_launch\u001b[0;34m()\u001b[0m\n",
      "File \u001b[0;32mcupy/cuda/function.pyx:205\u001b[0m, in \u001b[0;36mcupy.cuda.function._launch\u001b[0;34m()\u001b[0m\n",
      "File \u001b[0;32mcupy_backends/cuda/api/driver.pyx:273\u001b[0m, in \u001b[0;36mcupy_backends.cuda.api.driver.launchKernel\u001b[0;34m()\u001b[0m\n",
      "File \u001b[0;32mcupy_backends/cuda/api/driver.pyx:63\u001b[0m, in \u001b[0;36mcupy_backends.cuda.api.driver.check_status\u001b[0;34m()\u001b[0m\n",
      "\u001b[0;31mCUDADriverError\u001b[0m: CUDA_ERROR_ILLEGAL_ADDRESS: an illegal memory access was encountered"
     ]
    }
   ],
   "source": [
    "\n",
    "# cuml.common.logger.set_level(1)\n",
    "\n",
    "class Timer:\n",
    "    def __enter__(self):\n",
    "        self.tick = time.time()\n",
    "        return self\n",
    "\n",
    "    def __exit__(self, *args, **kwargs):\n",
    "        self.tock = time.time()\n",
    "        self.elapsed = self.tock - self.tick\n",
    "\n",
    "\n",
    "# Warmup\n",
    "X = np.random.normal(0, 10, (100, 20))\n",
    "y = np.random.randint(0, 2, 100)\n",
    "clf = cuml.ensemble.RandomForestRegressor().fit(X, y)\n",
    "clf = cuml.neighbors.KNeighborsRegressor().fit(X, y)\n",
    "\n",
    "\n",
    "# n_samples = 50000000\n",
    "# n_features = 256\n",
    "# n_clusters = 8\n",
    "# random_state = 0\n",
    "\n",
    "\n",
    "\n",
    "# PARAMS\n",
    "SKIP_SKLEARN = True\n",
    "\n",
    "BACKENDS = [\n",
    "    \"cuml\",\n",
    "    \"sklearn\",\n",
    "]\n",
    "\n",
    "if SKIP_SKLEARN:\n",
    "    BACKENDS.remove(\"sklearn\")\n",
    "\n",
    "NROWS = [\n",
    "    5000000,\n",
    "    10000000,\n",
    "    15000000,\n",
    "    20000000,\n",
    "    25000000,\n",
    "    30000000,\n",
    "    40000000,\n",
    "    50000000,\n",
    "    60000000,\n",
    "    70000000,\n",
    "    80000000,\n",
    "    90000000,\n",
    "    100000000\n",
    "]\n",
    "\n",
    "NFEATURES = [\n",
    "    256,\n",
    "]\n",
    "\n",
    "del clf\n",
    "\n",
    "\n",
    "outpath = f\"knn-benchmark-results-uvm.jsonl\"\n",
    "if os.path.exists(outpath):\n",
    "    os.remove(outpath)\n",
    "\n",
    "\n",
    "for N in NROWS:\n",
    "    for K in NFEATURES:\n",
    "        for library in BACKENDS:\n",
    "            X, y = make_blobs(n_samples=N, centers=5,\n",
    "                  n_features=K, random_state=5)\n",
    "            X_train, X_test, y_train, y_test = train_test_split( X, y, random_state = 0 )\n",
    "\n",
    "            benchmark_payload = {}\n",
    "            with Timer() as fit_time:\n",
    "                if library == \"cuml\":\n",
    "                    knn = KNeighborsClassifier(n_neighbors=10)\n",
    "\n",
    "                    knn.fit(X_train, y_train)\n",
    "\n",
    "\n",
    "            benchmark_payload[\"backend\"] = library\n",
    "            benchmark_payload[\"nrows\"] = N\n",
    "            benchmark_payload[\"ncols\"] = K\n",
    "            benchmark_payload[\"fit_time\"] = fit_time.elapsed\n",
    "            benchmark_payload[\"managed_memory\"] = 1\n",
    "            print(benchmark_payload)\n",
    "\n",
    "            with open(outpath, \"a\") as fh:\n",
    "                fh.write(json.dumps(benchmark_payload))\n",
    "                fh.write(\"\\n\")\n",
    "            del knn\n",
    "            del X, y, X_train, X_test, y_train, y_test\n",
    "\n",
    "            time.sleep(0.5)"
   ]
  },
  {
   "cell_type": "code",
   "execution_count": 5,
   "id": "2234324f-8fd9-4f5d-86b3-d091e5dac49d",
   "metadata": {},
   "outputs": [
    {
     "data": {
      "text/plain": [
       "<Axes: xlabel='nrows'>"
      ]
     },
     "execution_count": 5,
     "metadata": {},
     "output_type": "execute_result"
    },
    {
     "data": {
      "image/png": "[encoded data removed]",
      "text/plain": [
       "<Figure size 640x480 with 1 Axes>"
      ]
     },
     "metadata": {},
     "output_type": "display_data"
    }
   ],
   "source": [
    "import pandas as pd\n",
    "uvm_df = pd.read_json(path_or_buf=\"knn-benchmark-results-uvm.jsonl\", lines=True)\n",
    "no_uvm_df = pd.read_json(path_or_buf=\"knn-benchmark-results-no-uvm.jsonl\", lines=True)\n",
    "df = pd.concat([uvm_df, no_uvm_df])\n",
    "df.to_csv(\"knn_sum.csv\", index=False)\n",
    "pivot = df.pivot(index='nrows', columns='managed_memory', values='fit_time')\n",
    "pivot.plot()"
   ]
  },
  {
   "cell_type": "markdown",
   "id": "758710aa-6061-47e3-9cde-62c7c1045634",
   "metadata": {},
   "source": [
    "# HDBSCAN"
   ]
  },
  {
   "cell_type": "code",
   "execution_count": 1,
   "id": "21b0db16-6dc3-4773-8817-16184d94c3dc",
   "metadata": {},
   "outputs": [
    {
     "name": "stdout",
     "output_type": "stream",
     "text": [
      "env: CUDA_VISIBLE_DEVICES=3\n"
     ]
    }
   ],
   "source": [
    "%env CUDA_VISIBLE_DEVICES=3"
   ]
  },
  {
   "cell_type": "code",
   "execution_count": 2,
   "id": "aacf6cb1-7d10-4ca5-8f91-6d85654af305",
   "metadata": {},
   "outputs": [],
   "source": [
    "# import rmm\n",
    "# rmm.mr.set_current_device_resource(rmm.mr.ManagedMemoryResource())\n",
    "# print(\"MANAGED MEMORY ON\")\n"
   ]
  },
  {
   "cell_type": "code",
   "execution_count": 3,
   "id": "21e399c4-253a-4450-8775-4c5d8acb5e38",
   "metadata": {},
   "outputs": [
    {
     "name": "stderr",
     "output_type": "stream",
     "text": [
      "/home/coder/.conda/envs/rapids/lib/python3.12/site-packages/tqdm/auto.py:21: TqdmWarning: IProgress not found. Please update jupyter and ipywidgets. See https://ipywidgets.readthedocs.io/en/stable/user_install.html\n",
      "  from .autonotebook import tqdm as notebook_tqdm\n"
     ]
    }
   ],
   "source": [
    "from cuml.cluster.hdbscan import HDBSCAN\n",
    "from cuml.datasets import make_blobs\n",
    "from cuml.model_selection import train_test_split\n",
    "import pandas as pd\n",
    "import cuml\n",
    "import numpy as np\n",
    "import os\n",
    "import time\n",
    "import cupy as cp\n",
    "import json"
   ]
  },
  {
   "cell_type": "code",
   "execution_count": 5,
   "id": "75fca88e-527f-4706-b670-086142a8c357",
   "metadata": {},
   "outputs": [
    {
     "name": "stdout",
     "output_type": "stream",
     "text": [
      "{'backend': 'cuml', 'nrows': 2000000, 'ncols': 256, 'fit_time': 584.1700654029846, 'managed_memory': 1}\n"
     ]
    }
   ],
   "source": [
    "\n",
    "# cuml.common.logger.set_level(1)\n",
    "\n",
    "class Timer:\n",
    "    def __enter__(self):\n",
    "        self.tick = time.time()\n",
    "        return self\n",
    "\n",
    "    def __exit__(self, *args, **kwargs):\n",
    "        self.tock = time.time()\n",
    "        self.elapsed = self.tock - self.tick\n",
    "\n",
    "\n",
    "# Warmup\n",
    "X = np.random.normal(0, 10, (100, 20))\n",
    "y = np.random.randint(0, 2, 100)\n",
    "clf = cuml.ensemble.RandomForestRegressor().fit(X, y)\n",
    "clf = cuml.neighbors.KNeighborsRegressor().fit(X, y)\n",
    "\n",
    "\n",
    "# n_samples = 50000000\n",
    "# n_features = 256\n",
    "# n_clusters = 8\n",
    "# random_state = 0\n",
    "\n",
    "\n",
    "\n",
    "# PARAMS\n",
    "SKIP_SKLEARN = True\n",
    "\n",
    "BACKENDS = [\n",
    "    \"cuml\",\n",
    "    \"sklearn\",\n",
    "]\n",
    "\n",
    "if SKIP_SKLEARN:\n",
    "    BACKENDS.remove(\"sklearn\")\n",
    "\n",
    "NROWS = [\n",
    "    2000000,\n",
    "    # 10000000,\n",
    "    # 15000000,\n",
    "    # 20000000,\n",
    "    # 25000000,\n",
    "    # 30000000,\n",
    "    # 40000000,\n",
    "    # 50000000,\n",
    "    # 60000000,\n",
    "    # 70000000,\n",
    "    # 80000000,\n",
    "    # 90000000,\n",
    "    # 100000000\n",
    "]\n",
    "\n",
    "NFEATURES = [\n",
    "    256,\n",
    "]\n",
    "\n",
    "del clf\n",
    "\n",
    "\n",
    "outpath = f\"hdbscan-benchmark-results-uvm.jsonl\"\n",
    "if os.path.exists(outpath):\n",
    "    os.remove(outpath)\n",
    "\n",
    "\n",
    "for N in NROWS:\n",
    "    for K in NFEATURES:\n",
    "        for library in BACKENDS:\n",
    "            blobs, labels = make_blobs(n_samples=N, centers=5,\n",
    "                  n_features=K, random_state=5)\n",
    "\n",
    "            benchmark_payload = {}\n",
    "            with Timer() as fit_time:\n",
    "                if library == \"cuml\":\n",
    "                    clusterer = HDBSCAN(prediction_data=True)\n",
    "                    clusterer.fit(blobs)\n",
    "\n",
    "            benchmark_payload[\"backend\"] = library\n",
    "            benchmark_payload[\"nrows\"] = N\n",
    "            benchmark_payload[\"ncols\"] = K\n",
    "            benchmark_payload[\"fit_time\"] = fit_time.elapsed\n",
    "            benchmark_payload[\"managed_memory\"] = 1\n",
    "            print(benchmark_payload)\n",
    "\n",
    "            with open(outpath, \"a\") as fh:\n",
    "                fh.write(json.dumps(benchmark_payload))\n",
    "                fh.write(\"\\n\")\n",
    "            del clusterer\n",
    "            del blobs, labels\n",
    "\n",
    "            time.sleep(0.5)"
   ]
  },
  {
   "cell_type": "code",
   "execution_count": null,
   "id": "4b7b80c3-69d3-4037-871f-42975dc22246",
   "metadata": {},
   "outputs": [],
   "source": [
    "1M = 157s\n",
    "2M = 584s"
   ]
  },
  {
   "cell_type": "code",
   "execution_count": null,
   "id": "215202cb-8afb-42f7-8e18-51a5511b701c",
   "metadata": {},
   "outputs": [],
   "source": []
  },
  {
   "cell_type": "markdown",
   "id": "ac40dedc-13a5-4dae-a04c-a4fe80288c38",
   "metadata": {},
   "source": [
    "# DBSCAN "
   ]
  },
  {
   "cell_type": "code",
   "execution_count": 6,
   "id": "f89919ec-c4b3-4ee0-bcd9-abca22b9f0b0",
   "metadata": {},
   "outputs": [
    {
     "name": "stdout",
     "output_type": "stream",
     "text": [
      "env: CUDA_VISIBLE_DEVICES=3\n"
     ]
    }
   ],
   "source": [
    "%env CUDA_VISIBLE_DEVICES=3"
   ]
  },
  {
   "cell_type": "code",
   "execution_count": 7,
   "id": "6dc11190-6721-4246-b1c3-7677f62a389e",
   "metadata": {},
   "outputs": [],
   "source": [
    "from cuml import DBSCAN as cumlDBSCAN\n",
    "from cuml.datasets import make_blobs\n",
    "from cuml.model_selection import train_test_split\n",
    "import pandas as pd\n",
    "import cuml\n",
    "import numpy as np\n",
    "import os\n",
    "import time\n",
    "import cupy as cp\n",
    "import json"
   ]
  },
  {
   "cell_type": "code",
   "execution_count": 8,
   "id": "31c910ee-ae54-4f28-84d9-ccfc72bbd830",
   "metadata": {},
   "outputs": [
    {
     "name": "stdout",
     "output_type": "stream",
     "text": [
      "[W] [20:30:56.559010] Batch size limited by the chosen integer type (4 bytes). 6593 -> 1073. Using the larger integer type might result in better performance\n",
      "{'backend': 'cuml', 'nrows': 2000000, 'ncols': 256, 'fit_time': 460.2227952480316, 'managed_memory': 1}\n"
     ]
    },
    {
     "ename": "NameError",
     "evalue": "name 'clusterer' is not defined",
     "output_type": "error",
     "traceback": [
      "\u001b[0;31m---------------------------------------------------------------------------\u001b[0m",
      "\u001b[0;31mNameError\u001b[0m                                 Traceback (most recent call last)",
      "Cell \u001b[0;32mIn[8], line 88\u001b[0m\n\u001b[1;32m     86\u001b[0m     fh\u001b[38;5;241m.\u001b[39mwrite(json\u001b[38;5;241m.\u001b[39mdumps(benchmark_payload))\n\u001b[1;32m     87\u001b[0m     fh\u001b[38;5;241m.\u001b[39mwrite(\u001b[38;5;124m\"\u001b[39m\u001b[38;5;130;01m\\n\u001b[39;00m\u001b[38;5;124m\"\u001b[39m)\n\u001b[0;32m---> 88\u001b[0m \u001b[38;5;28;01mdel\u001b[39;00m \u001b[43mclusterer\u001b[49m\n\u001b[1;32m     89\u001b[0m \u001b[38;5;28;01mdel\u001b[39;00m blobs, labels\n\u001b[1;32m     91\u001b[0m time\u001b[38;5;241m.\u001b[39msleep(\u001b[38;5;241m0.5\u001b[39m)\n",
      "\u001b[0;31mNameError\u001b[0m: name 'clusterer' is not defined"
     ]
    }
   ],
   "source": [
    "\n",
    "# cuml.common.logger.set_level(1)\n",
    "\n",
    "class Timer:\n",
    "    def __enter__(self):\n",
    "        self.tick = time.time()\n",
    "        return self\n",
    "\n",
    "    def __exit__(self, *args, **kwargs):\n",
    "        self.tock = time.time()\n",
    "        self.elapsed = self.tock - self.tick\n",
    "\n",
    "\n",
    "# Warmup\n",
    "X = np.random.normal(0, 10, (100, 20))\n",
    "y = np.random.randint(0, 2, 100)\n",
    "clf = cuml.ensemble.RandomForestRegressor().fit(X, y)\n",
    "clf = cuml.neighbors.KNeighborsRegressor().fit(X, y)\n",
    "\n",
    "\n",
    "# n_samples = 50000000\n",
    "# n_features = 256\n",
    "# n_clusters = 8\n",
    "# random_state = 0\n",
    "\n",
    "\n",
    "\n",
    "# PARAMS\n",
    "SKIP_SKLEARN = True\n",
    "\n",
    "BACKENDS = [\n",
    "    \"cuml\",\n",
    "    \"sklearn\",\n",
    "]\n",
    "\n",
    "if SKIP_SKLEARN:\n",
    "    BACKENDS.remove(\"sklearn\")\n",
    "\n",
    "NROWS = [\n",
    "    2000000,\n",
    "    # 10000000,\n",
    "    # 15000000,\n",
    "    # 20000000,\n",
    "    # 25000000,\n",
    "    # 30000000,\n",
    "    # 40000000,\n",
    "    # 50000000,\n",
    "    # 60000000,\n",
    "    # 70000000,\n",
    "    # 80000000,\n",
    "    # 90000000,\n",
    "    # 100000000\n",
    "]\n",
    "\n",
    "NFEATURES = [\n",
    "    256,\n",
    "]\n",
    "\n",
    "del clf\n",
    "\n",
    "\n",
    "outpath = f\"dbscan-benchmark-results-uvm.jsonl\"\n",
    "if os.path.exists(outpath):\n",
    "    os.remove(outpath)\n",
    "\n",
    "\n",
    "for N in NROWS:\n",
    "    for K in NFEATURES:\n",
    "        for library in BACKENDS:\n",
    "            blobs, labels = make_blobs(n_samples=N, centers=5,\n",
    "                  n_features=K, random_state=5)\n",
    "\n",
    "            benchmark_payload = {}\n",
    "            with Timer() as fit_time:\n",
    "                if library == \"cuml\":\n",
    "                    dbscan = cumlDBSCAN()\n",
    "                    dbscan.fit(blobs)\n",
    "\n",
    "            benchmark_payload[\"backend\"] = library\n",
    "            benchmark_payload[\"nrows\"] = N\n",
    "            benchmark_payload[\"ncols\"] = K\n",
    "            benchmark_payload[\"fit_time\"] = fit_time.elapsed\n",
    "            benchmark_payload[\"managed_memory\"] = 1\n",
    "            print(benchmark_payload)\n",
    "\n",
    "            with open(outpath, \"a\") as fh:\n",
    "                fh.write(json.dumps(benchmark_payload))\n",
    "                fh.write(\"\\n\")\n",
    "            del dbscan\n",
    "            del blobs, labels\n",
    "\n",
    "            time.sleep(0.5)"
   ]
  },
  {
   "cell_type": "code",
   "execution_count": null,
   "id": "a2ea96d9-117b-45d4-aaca-3a568295e93f",
   "metadata": {},
   "outputs": [],
   "source": []
  },
  {
   "cell_type": "markdown",
   "id": "3113af97-d849-41c5-83a5-cf21779f6153",
   "metadata": {},
   "source": [
    "# UMAP"
   ]
  },
  {
   "cell_type": "code",
   "execution_count": 1,
   "id": "9f967094-6dfe-4d81-b115-5f7105427622",
   "metadata": {},
   "outputs": [
    {
     "name": "stdout",
     "output_type": "stream",
     "text": [
      "env: CUDA_VISIBLE_DEVICES=3\n"
     ]
    }
   ],
   "source": [
    "%env CUDA_VISIBLE_DEVICES=3"
   ]
  },
  {
   "cell_type": "code",
   "execution_count": 2,
   "id": "590c4212-7665-4786-9075-a5ccbd4b90e3",
   "metadata": {},
   "outputs": [
    {
     "name": "stdout",
     "output_type": "stream",
     "text": [
      "MANAGED MEMORY ON\n"
     ]
    }
   ],
   "source": [
    "import rmm\n",
    "rmm.mr.set_current_device_resource(rmm.mr.ManagedMemoryResource())\n",
    "print(\"MANAGED MEMORY ON\")\n"
   ]
  },
  {
   "cell_type": "code",
   "execution_count": 3,
   "id": "1b3d0983-b449-4912-82f3-3506761572db",
   "metadata": {},
   "outputs": [
    {
     "name": "stderr",
     "output_type": "stream",
     "text": [
      "/home/coder/.conda/envs/rapids/lib/python3.12/site-packages/tqdm/auto.py:21: TqdmWarning: IProgress not found. Please update jupyter and ipywidgets. See https://ipywidgets.readthedocs.io/en/stable/user_install.html\n",
      "  from .autonotebook import tqdm as notebook_tqdm\n"
     ]
    }
   ],
   "source": [
    "from cuml.manifold.umap import UMAP\n",
    "from cuml.datasets import make_blobs\n",
    "from cuml.model_selection import train_test_split\n",
    "import pandas as pd\n",
    "import cuml\n",
    "import numpy as np\n",
    "import os\n",
    "import time\n",
    "import cupy as cp\n",
    "import json"
   ]
  },
  {
   "cell_type": "code",
   "execution_count": 4,
   "id": "2df26098-30f2-48a5-95d1-a2a226d69750",
   "metadata": {},
   "outputs": [
    {
     "name": "stderr",
     "output_type": "stream",
     "text": [
      "/home/coder/.conda/envs/rapids/lib/python3.12/site-packages/cuml/internals/api_decorators.py:188: UserWarning: The number of bins, `n_bins` is greater than the number of samples used for training. Changing `n_bins` to number of training samples.\n",
      "  ret = func(*args, **kwargs)\n",
      "/home/coder/.conda/envs/rapids/lib/python3.12/site-packages/cuml/internals/api_decorators.py:188: UserWarning: To use pickling first train using float32 data to fit the estimator\n",
      "  ret = func(*args, **kwargs)\n"
     ]
    },
    {
     "name": "stdout",
     "output_type": "stream",
     "text": [
      "{'backend': 'cuml', 'nrows': 5000000, 'ncols': 256, 'fit_time': 52.46480679512024, 'managed_memory': 1}\n",
      "{'backend': 'cuml', 'nrows': 10000000, 'ncols': 256, 'fit_time': 177.80756092071533, 'managed_memory': 1}\n",
      "{'backend': 'cuml', 'nrows': 15000000, 'ncols': 256, 'fit_time': 257.0092225074768, 'managed_memory': 1}\n",
      "{'backend': 'cuml', 'nrows': 20000000, 'ncols': 256, 'fit_time': 315.1005837917328, 'managed_memory': 1}\n",
      "{'backend': 'cuml', 'nrows': 25000000, 'ncols': 256, 'fit_time': 403.4118957519531, 'managed_memory': 1}\n",
      "{'backend': 'cuml', 'nrows': 30000000, 'ncols': 256, 'fit_time': 495.2092628479004, 'managed_memory': 1}\n",
      "{'backend': 'cuml', 'nrows': 40000000, 'ncols': 256, 'fit_time': 663.3901937007904, 'managed_memory': 1}\n"
     ]
    },
    {
     "ename": "CUDADriverError",
     "evalue": "CUDA_ERROR_ILLEGAL_ADDRESS: an illegal memory access was encountered",
     "output_type": "error",
     "traceback": [
      "\u001b[0;31m---------------------------------------------------------------------------\u001b[0m",
      "\u001b[0;31mCUDADriverError\u001b[0m                           Traceback (most recent call last)",
      "Cell \u001b[0;32mIn[4], line 70\u001b[0m\n\u001b[1;32m     68\u001b[0m \u001b[38;5;28;01mfor\u001b[39;00m K \u001b[38;5;129;01min\u001b[39;00m NFEATURES:\n\u001b[1;32m     69\u001b[0m     \u001b[38;5;28;01mfor\u001b[39;00m library \u001b[38;5;129;01min\u001b[39;00m BACKENDS:\n\u001b[0;32m---> 70\u001b[0m         blobs, labels \u001b[38;5;241m=\u001b[39m \u001b[43mmake_blobs\u001b[49m\u001b[43m(\u001b[49m\u001b[43mn_samples\u001b[49m\u001b[38;5;241;43m=\u001b[39;49m\u001b[43mN\u001b[49m\u001b[43m,\u001b[49m\u001b[43m \u001b[49m\u001b[43mcenters\u001b[49m\u001b[38;5;241;43m=\u001b[39;49m\u001b[38;5;241;43m5\u001b[39;49m\u001b[43m,\u001b[49m\n\u001b[1;32m     71\u001b[0m \u001b[43m              \u001b[49m\u001b[43mn_features\u001b[49m\u001b[38;5;241;43m=\u001b[39;49m\u001b[43mK\u001b[49m\u001b[43m,\u001b[49m\u001b[43m \u001b[49m\u001b[43mrandom_state\u001b[49m\u001b[38;5;241;43m=\u001b[39;49m\u001b[38;5;241;43m5\u001b[39;49m\u001b[43m)\u001b[49m\n\u001b[1;32m     73\u001b[0m         benchmark_payload \u001b[38;5;241m=\u001b[39m {}\n\u001b[1;32m     74\u001b[0m         \u001b[38;5;28;01mwith\u001b[39;00m Timer() \u001b[38;5;28;01mas\u001b[39;00m fit_time:\n",
      "File \u001b[0;32m~/.conda/envs/rapids/lib/python3.12/site-packages/nvtx/nvtx.py:116\u001b[0m, in \u001b[0;36mannotate.__call__.<locals>.inner\u001b[0;34m(*args, **kwargs)\u001b[0m\n\u001b[1;32m    113\u001b[0m \u001b[38;5;129m@wraps\u001b[39m(func)\n\u001b[1;32m    114\u001b[0m \u001b[38;5;28;01mdef\u001b[39;00m \u001b[38;5;21minner\u001b[39m(\u001b[38;5;241m*\u001b[39margs, \u001b[38;5;241m*\u001b[39m\u001b[38;5;241m*\u001b[39mkwargs):\n\u001b[1;32m    115\u001b[0m     libnvtx_push_range(\u001b[38;5;28mself\u001b[39m\u001b[38;5;241m.\u001b[39mattributes, \u001b[38;5;28mself\u001b[39m\u001b[38;5;241m.\u001b[39mdomain\u001b[38;5;241m.\u001b[39mhandle)\n\u001b[0;32m--> 116\u001b[0m     result \u001b[38;5;241m=\u001b[39m \u001b[43mfunc\u001b[49m\u001b[43m(\u001b[49m\u001b[38;5;241;43m*\u001b[39;49m\u001b[43margs\u001b[49m\u001b[43m,\u001b[49m\u001b[43m \u001b[49m\u001b[38;5;241;43m*\u001b[39;49m\u001b[38;5;241;43m*\u001b[39;49m\u001b[43mkwargs\u001b[49m\u001b[43m)\u001b[49m\n\u001b[1;32m    117\u001b[0m     libnvtx_pop_range(\u001b[38;5;28mself\u001b[39m\u001b[38;5;241m.\u001b[39mdomain\u001b[38;5;241m.\u001b[39mhandle)\n\u001b[1;32m    118\u001b[0m     \u001b[38;5;28;01mreturn\u001b[39;00m result\n",
      "File \u001b[0;32m~/.conda/envs/rapids/lib/python3.12/site-packages/cuml/internals/api_decorators.py:188\u001b[0m, in \u001b[0;36m_make_decorator_function.<locals>.decorator_function.<locals>.decorator_closure.<locals>.wrapper\u001b[0;34m(*args, **kwargs)\u001b[0m\n\u001b[1;32m    185\u001b[0m     set_api_output_dtype(output_dtype)\n\u001b[1;32m    187\u001b[0m \u001b[38;5;28;01mif\u001b[39;00m process_return:\n\u001b[0;32m--> 188\u001b[0m     ret \u001b[38;5;241m=\u001b[39m \u001b[43mfunc\u001b[49m\u001b[43m(\u001b[49m\u001b[38;5;241;43m*\u001b[39;49m\u001b[43margs\u001b[49m\u001b[43m,\u001b[49m\u001b[43m \u001b[49m\u001b[38;5;241;43m*\u001b[39;49m\u001b[38;5;241;43m*\u001b[39;49m\u001b[43mkwargs\u001b[49m\u001b[43m)\u001b[49m\n\u001b[1;32m    189\u001b[0m \u001b[38;5;28;01melse\u001b[39;00m:\n\u001b[1;32m    190\u001b[0m     \u001b[38;5;28;01mreturn\u001b[39;00m func(\u001b[38;5;241m*\u001b[39margs, \u001b[38;5;241m*\u001b[39m\u001b[38;5;241m*\u001b[39mkwargs)\n",
      "File \u001b[0;32m~/.conda/envs/rapids/lib/python3.12/site-packages/cuml/datasets/blobs.py:216\u001b[0m, in \u001b[0;36mmake_blobs\u001b[0;34m(n_samples, n_features, centers, cluster_std, center_box, shuffle, random_state, return_centers, order, dtype)\u001b[0m\n\u001b[1;32m    212\u001b[0m shuffled_sample_indices \u001b[38;5;241m=\u001b[39m generator\u001b[38;5;241m.\u001b[39mchoice(\n\u001b[1;32m    213\u001b[0m     n_centers, n_samples, replace\u001b[38;5;241m=\u001b[39m\u001b[38;5;28;01mTrue\u001b[39;00m, p\u001b[38;5;241m=\u001b[39mproba_samples_per_center\n\u001b[1;32m    214\u001b[0m )\n\u001b[1;32m    215\u001b[0m \u001b[38;5;28;01mfor\u001b[39;00m i, (n, std) \u001b[38;5;129;01min\u001b[39;00m \u001b[38;5;28menumerate\u001b[39m(\u001b[38;5;28mzip\u001b[39m(n_samples_per_center, cluster_std)):\n\u001b[0;32m--> 216\u001b[0m     center_indices \u001b[38;5;241m=\u001b[39m \u001b[43mcp\u001b[49m\u001b[38;5;241;43m.\u001b[39;49m\u001b[43mwhere\u001b[49m\u001b[43m(\u001b[49m\u001b[43mshuffled_sample_indices\u001b[49m\u001b[43m \u001b[49m\u001b[38;5;241;43m==\u001b[39;49m\u001b[43m \u001b[49m\u001b[43mi\u001b[49m\u001b[43m)\u001b[49m\n\u001b[1;32m    218\u001b[0m     y[center_indices[\u001b[38;5;241m0\u001b[39m]] \u001b[38;5;241m=\u001b[39m i\n\u001b[1;32m    220\u001b[0m     X_k \u001b[38;5;241m=\u001b[39m generator\u001b[38;5;241m.\u001b[39mnormal(\n\u001b[1;32m    221\u001b[0m         scale\u001b[38;5;241m=\u001b[39mstd,\n\u001b[1;32m    222\u001b[0m         size\u001b[38;5;241m=\u001b[39m(\u001b[38;5;28mlen\u001b[39m(center_indices[\u001b[38;5;241m0\u001b[39m]), n_features),\n\u001b[1;32m    223\u001b[0m         dtype\u001b[38;5;241m=\u001b[39mdtype,\n\u001b[1;32m    224\u001b[0m     )\n",
      "File \u001b[0;32m~/.conda/envs/rapids/lib/python3.12/site-packages/cupy/_sorting/search.py:207\u001b[0m, in \u001b[0;36mwhere\u001b[0;34m(condition, x, y)\u001b[0m\n\u001b[1;32m    205\u001b[0m     \u001b[38;5;28;01mraise\u001b[39;00m \u001b[38;5;167;01mValueError\u001b[39;00m(\u001b[38;5;124m'\u001b[39m\u001b[38;5;124mMust provide both \u001b[39m\u001b[38;5;130;01m\\'\u001b[39;00m\u001b[38;5;124mx\u001b[39m\u001b[38;5;130;01m\\'\u001b[39;00m\u001b[38;5;124m and \u001b[39m\u001b[38;5;130;01m\\'\u001b[39;00m\u001b[38;5;124my\u001b[39m\u001b[38;5;130;01m\\'\u001b[39;00m\u001b[38;5;124m or neither.\u001b[39m\u001b[38;5;124m'\u001b[39m)\n\u001b[1;32m    206\u001b[0m \u001b[38;5;28;01mif\u001b[39;00m missing \u001b[38;5;241m==\u001b[39m \u001b[38;5;241m2\u001b[39m:\n\u001b[0;32m--> 207\u001b[0m     \u001b[38;5;28;01mreturn\u001b[39;00m \u001b[43mnonzero\u001b[49m\u001b[43m(\u001b[49m\u001b[43mcondition\u001b[49m\u001b[43m)\u001b[49m  \u001b[38;5;66;03m# may synchronize\u001b[39;00m\n\u001b[1;32m    209\u001b[0m \u001b[38;5;28;01mif\u001b[39;00m fusion\u001b[38;5;241m.\u001b[39m_is_fusing():\n\u001b[1;32m    210\u001b[0m     \u001b[38;5;28;01mreturn\u001b[39;00m fusion\u001b[38;5;241m.\u001b[39m_call_ufunc(_where_ufunc, condition, x, y)\n",
      "File \u001b[0;32m~/.conda/envs/rapids/lib/python3.12/site-packages/cupy/_sorting/search.py:140\u001b[0m, in \u001b[0;36mnonzero\u001b[0;34m(a)\u001b[0m\n\u001b[1;32m    121\u001b[0m \u001b[38;5;250m\u001b[39m\u001b[38;5;124;03m\"\"\"Return the indices of the elements that are non-zero.\u001b[39;00m\n\u001b[1;32m    122\u001b[0m \n\u001b[1;32m    123\u001b[0m \u001b[38;5;124;03mReturns a tuple of arrays, one for each dimension of a,\u001b[39;00m\n\u001b[0;32m   (...)\u001b[0m\n\u001b[1;32m    137\u001b[0m \n\u001b[1;32m    138\u001b[0m \u001b[38;5;124;03m\"\"\"\u001b[39;00m\n\u001b[1;32m    139\u001b[0m _util\u001b[38;5;241m.\u001b[39mcheck_array(a, arg_name\u001b[38;5;241m=\u001b[39m\u001b[38;5;124m'\u001b[39m\u001b[38;5;124ma\u001b[39m\u001b[38;5;124m'\u001b[39m)\n\u001b[0;32m--> 140\u001b[0m \u001b[38;5;28;01mreturn\u001b[39;00m \u001b[43ma\u001b[49m\u001b[38;5;241;43m.\u001b[39;49m\u001b[43mnonzero\u001b[49m\u001b[43m(\u001b[49m\u001b[43m)\u001b[49m\n",
      "File \u001b[0;32mcupy/_core/core.pyx:950\u001b[0m, in \u001b[0;36mcupy._core.core._ndarray_base.nonzero\u001b[0;34m()\u001b[0m\n",
      "File \u001b[0;32mcupy/_core/core.pyx:967\u001b[0m, in \u001b[0;36mcupy._core.core._ndarray_base.nonzero\u001b[0;34m()\u001b[0m\n",
      "File \u001b[0;32mcupy/_core/_routines_indexing.pyx:56\u001b[0m, in \u001b[0;36mcupy._core._routines_indexing._ndarray_nonzero\u001b[0;34m()\u001b[0m\n",
      "File \u001b[0;32mcupy/_core/_routines_indexing.pyx:98\u001b[0m, in \u001b[0;36mcupy._core._routines_indexing._ndarray_argwhere\u001b[0;34m()\u001b[0m\n",
      "File \u001b[0;32mcupy/_core/_routines_math.pyx:487\u001b[0m, in \u001b[0;36mcupy._core._routines_math.scan\u001b[0;34m()\u001b[0m\n",
      "File \u001b[0;32mcupy/_core/_routines_math.pyx:490\u001b[0m, in \u001b[0;36mcupy._core._routines_math.scan\u001b[0;34m()\u001b[0m\n",
      "File \u001b[0;32mcupy/_core/_kernel.pyx:921\u001b[0m, in \u001b[0;36mcupy._core._kernel.ElementwiseKernel.__call__\u001b[0;34m()\u001b[0m\n",
      "File \u001b[0;32mcupy/cuda/function.pyx:237\u001b[0m, in \u001b[0;36mcupy.cuda.function.Function.linear_launch\u001b[0;34m()\u001b[0m\n",
      "File \u001b[0;32mcupy/cuda/function.pyx:205\u001b[0m, in \u001b[0;36mcupy.cuda.function._launch\u001b[0;34m()\u001b[0m\n",
      "File \u001b[0;32mcupy_backends/cuda/api/driver.pyx:273\u001b[0m, in \u001b[0;36mcupy_backends.cuda.api.driver.launchKernel\u001b[0;34m()\u001b[0m\n",
      "File \u001b[0;32mcupy_backends/cuda/api/driver.pyx:63\u001b[0m, in \u001b[0;36mcupy_backends.cuda.api.driver.check_status\u001b[0;34m()\u001b[0m\n",
      "\u001b[0;31mCUDADriverError\u001b[0m: CUDA_ERROR_ILLEGAL_ADDRESS: an illegal memory access was encountered"
     ]
    }
   ],
   "source": [
    "\n",
    "# cuml.common.logger.set_level(1)\n",
    "\n",
    "class Timer:\n",
    "    def __enter__(self):\n",
    "        self.tick = time.time()\n",
    "        return self\n",
    "\n",
    "    def __exit__(self, *args, **kwargs):\n",
    "        self.tock = time.time()\n",
    "        self.elapsed = self.tock - self.tick\n",
    "\n",
    "\n",
    "# Warmup\n",
    "X = np.random.normal(0, 10, (100, 20))\n",
    "y = np.random.randint(0, 2, 100)\n",
    "clf = cuml.ensemble.RandomForestRegressor().fit(X, y)\n",
    "clf = cuml.neighbors.KNeighborsRegressor().fit(X, y)\n",
    "\n",
    "\n",
    "# n_samples = 50000000\n",
    "# n_features = 256\n",
    "# n_clusters = 8\n",
    "# random_state = 0\n",
    "\n",
    "\n",
    "\n",
    "# PARAMS\n",
    "SKIP_SKLEARN = True\n",
    "\n",
    "BACKENDS = [\n",
    "    \"cuml\",\n",
    "    \"sklearn\",\n",
    "]\n",
    "\n",
    "if SKIP_SKLEARN:\n",
    "    BACKENDS.remove(\"sklearn\")\n",
    "\n",
    "NROWS = [\n",
    "    5000000,\n",
    "    10000000,\n",
    "    15000000,\n",
    "    20000000,\n",
    "    25000000,\n",
    "    30000000,\n",
    "    40000000,\n",
    "    50000000,\n",
    "    60000000,\n",
    "    70000000,\n",
    "    80000000,\n",
    "    90000000,\n",
    "    100000000\n",
    "]\n",
    "\n",
    "NFEATURES = [\n",
    "    256,\n",
    "]\n",
    "\n",
    "del clf\n",
    "\n",
    "\n",
    "outpath = f\"umap-benchmark-results-uvm.jsonl\"\n",
    "if os.path.exists(outpath):\n",
    "    os.remove(outpath)\n",
    "\n",
    "\n",
    "for N in NROWS:\n",
    "    for K in NFEATURES:\n",
    "        for library in BACKENDS:\n",
    "            blobs, labels = make_blobs(n_samples=N, centers=5,\n",
    "                  n_features=K, random_state=5)\n",
    "\n",
    "            benchmark_payload = {}\n",
    "            with Timer() as fit_time:\n",
    "                if library == \"cuml\":\n",
    "                    umap = UMAP(n_neighbors=16)\n",
    "                    umap.fit_transform(blobs)\n",
    "\n",
    "\n",
    "            benchmark_payload[\"backend\"] = library\n",
    "            benchmark_payload[\"nrows\"] = N\n",
    "            benchmark_payload[\"ncols\"] = K\n",
    "            benchmark_payload[\"fit_time\"] = fit_time.elapsed\n",
    "            benchmark_payload[\"managed_memory\"] = 1\n",
    "            print(benchmark_payload)\n",
    "\n",
    "            with open(outpath, \"a\") as fh:\n",
    "                fh.write(json.dumps(benchmark_payload))\n",
    "                fh.write(\"\\n\")\n",
    "            del umap\n",
    "            del blobs, labels\n",
    "\n",
    "            time.sleep(0.5)"
   ]
  },
  {
   "cell_type": "code",
   "execution_count": 5,
   "id": "b47f0ca2-3052-4bff-a720-3783dc56ef47",
   "metadata": {},
   "outputs": [
    {
     "data": {
      "text/plain": [
       "<Axes: xlabel='nrows'>"
      ]
     },
     "execution_count": 5,
     "metadata": {},
     "output_type": "execute_result"
    },
    {
     "data": {
      "image/png": "[encoded data removed]",
      "text/plain": [
       "<Figure size 640x480 with 1 Axes>"
      ]
     },
     "metadata": {},
     "output_type": "display_data"
    }
   ],
   "source": [
    "import pandas as pd\n",
    "uvm_df = pd.read_json(path_or_buf=\"umap-benchmark-results-uvm.jsonl\", lines=True)\n",
    "no_uvm_df = pd.read_json(path_or_buf=\"umap-benchmark-results-no-uvm.jsonl\", lines=True)\n",
    "df = pd.concat([uvm_df, no_uvm_df])\n",
    "df.to_csv(\"umap_sum.csv\", index=False)\n",
    "pivot = df.pivot(index='nrows', columns='managed_memory', values='fit_time')\n",
    "pivot.plot()"
   ]
  },
  {
   "cell_type": "code",
   "execution_count": 1,
   "id": "10852f23-c282-4506-8d6b-30b45b64ae64",
   "metadata": {},
   "outputs": [],
   "source": []
  },
  {
   "cell_type": "code",
   "execution_count": null,
   "id": "477983f1-2354-4e92-bffa-a0de78da7404",
   "metadata": {},
   "outputs": [],
   "source": []
  }
 ],
 "metadata": {
  "kernelspec": {
   "display_name": "Python 3 (ipykernel)",
   "language": "python",
   "name": "python3"
  },
  "language_info": {
   "codemirror_mode": {
    "name": "ipython",
    "version": 3
   },
   "file_extension": ".py",
   "mimetype": "text/x-python",
   "name": "python",
   "nbconvert_exporter": "python",
   "pygments_lexer": "ipython3",
   "version": "3.12.7"
  }
 },
 "nbformat": 4,
 "nbformat_minor": 5
}
